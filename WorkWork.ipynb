{
 "cells": [
  {
   "cell_type": "code",
   "execution_count": null,
   "metadata": {},
   "outputs": [],
   "source": [
    "def buy_and_sell(stock_price):\n",
    "    max_profit_val, current_max_val = 0, 0 \n",
    "    for price in reversed(stock_price):                       \n",
    "        current_max_val = max(current_max_val, price)          \n",
    "        potential_profit = current_max_val - price          \n",
    "        max_profit_val = max(potential_profit, max_profit_val)\n",
    "\n",
    "    return max_profit_val\n",
    "\n",
    "print(buy_and_sell([9, 11, 8, 5, 7, 10]))\n",
    "print(buy_and_sell([1, 2, 8, 1]))\n",
    "print(buy_and_sell([]"
   ]
  },
  {
   "cell_type": "code",
   "execution_count": null,
   "metadata": {},
   "outputs": [],
   "source": [
    "def solve(self, prices):\n",
    "      max_profit = 0\n",
    "      min_stock = float('inf')\n",
    "      for price in prices:\n",
    "         max_profit = max(max_profit, price - min_stock)\n",
    "         min_stock = min(min_stock, price)\n",
    "      return max_profit\n",
    "ob = Solution()\n",
    "print(ob.solve([9, 11, 8, 5, 7, 10]))"
   ]
  },
  {
   "cell_type": "code",
   "execution_count": null,
   "metadata": {},
   "outputs": [],
   "source": [
    "def profit():\n",
    "    adet_fiyat_araligi=int(input(\"Kaç adet fiyat aralığı girmek istersiniz? \"))\n",
    "    liste=[]\n",
    "    for i in range(0,adet_fiyat_araligi):\n",
    "        deger1=int(input(\" fiyat aralığını giriniz = \"))\n",
    "        liste.append(deger1)\n",
    "    alis=min(liste)\n",
    "    satis=max(liste)\n",
    "    profit=satis-alis\n",
    "    print(f\"Satış fiyatımız = {satis}\")\n",
    "    print(f\"Alış fiyatımız = {alis}\")\n",
    "    print(f\"Bu satış işleminden elde edilen kar = {profit}\")"
   ]
  },
  {
   "cell_type": "code",
   "execution_count": null,
   "metadata": {},
   "outputs": [],
   "source": [
    "## Input        Output\n",
    "## --------:    ------:\n",
    "## \"()\"         True\n",
    "## \"()[]{}\"     True\n",
    "## \"(]\"         False\n",
    "## \"([)]\"       False\n",
    "## \"{[]}\"       True\n",
    "## \"\"           True"
   ]
  },
  {
   "cell_type": "code",
   "execution_count": null,
   "metadata": {},
   "outputs": [],
   "source": [
    "class py_solution:\n",
    "    def is_valid_parenthese(self, str1):\n",
    "        stack, pchar = [], {\"(\": \")\", \"{\": \"}\", \"[\": \"]\"}\n",
    "        for parenthese in str1:\n",
    "            if parenthese in pchar:\n",
    "                stack.append(parenthese)\n",
    "            elif len(stack) == 0 or pchar[stack.pop()] != parenthese:\n",
    "                return False\n",
    "        return len(stack) == 0\n",
    "\n",
    "print(py_solution().is_valid_parenthese(\"(){}[]\"))\n",
    "print(py_solution().is_valid_parenthese(\"()[{)}\"))\n",
    "print(py_solution().is_valid_parenthese(\"()\"))"
   ]
  },
  {
   "cell_type": "code",
   "execution_count": null,
   "metadata": {},
   "outputs": [],
   "source": [
    "def is_valid_parenthese(self, str1):\n",
    "        stack, pchar = [], {\"(\": \")\", \"{\": \"}\", \"[\": \"]\"}\n",
    "        for parenthese in str1:\n",
    "            if parenthese in pchar:\n",
    "                stack.append(parenthese)\n",
    "            elif len(stack) == 0 or pchar[stack.pop()] != parenthese:\n",
    "                return False\n",
    "        return len(stack) == 0\n",
    "\n",
    "print(py_solution().is_valid_parenthese(\"(){}[]\"))\n",
    "print(py_solution().is_valid_parenthese(\"()[{)}\"))\n",
    "print(py_solution().is_valid_parenthese(\"()\"))"
   ]
  },
  {
   "cell_type": "code",
   "execution_count": 1,
   "metadata": {},
   "outputs": [],
   "source": [
    "def karakter_giris():\n",
    "    number_character=int(input(\"how many characters would you like to enter : \"))\n",
    "    for i in range(0,number_character) : \n",
    "        character=input(\"please enter character : \")\n",
    "        if character.isdigit():\n",
    "            break\n",
    "        elif not character.isdigit():\n",
    "            if character==\" \" or character==\"()\" or character==\"[]\" or character==\"{}\" or character==\"()[]{}\" or character==\"[]{}()\" or character==\"{}[]()\" or character==\"{()}\" or character==\"({})\" or character==\"[()]\" or character==\"[{}]\" or character==\"{[]}\" or character==\"([])\" or character==\"[({})]\" or character==\"{([])}\" or character==\"([{}])\":\n",
    "                print(\"True\")\n",
    "            else:\n",
    "                print(\"False\")"
   ]
  },
  {
   "cell_type": "code",
   "execution_count": 2,
   "metadata": {},
   "outputs": [
    {
     "name": "stdout",
     "output_type": "stream",
     "text": [
      "how many characters would you like to enter : 5\n",
      "please enter character : selam\n",
      "False\n",
      "please enter character : merhaba\n",
      "False\n",
      "please enter character : hey\n",
      "False\n",
      "please enter character : key\n",
      "False\n",
      "please enter character : dev\n",
      "False\n"
     ]
    }
   ],
   "source": [
    "karakter_giris()"
   ]
  },
  {
   "cell_type": "code",
   "execution_count": null,
   "metadata": {},
   "outputs": [],
   "source": [
    "cache = {}\n",
    "\n",
    "def parentheses(n):\n",
    "    if n == 0:\n",
    "        return set([''])\n",
    "    elif n in cache:\n",
    "        return cache[n]\n",
    "    else:\n",
    "        par = set('(' + p + ')' for p in parentheses(n-1))\n",
    "        for k in range(1,n):\n",
    "            par.update(p+q for p in parentheses(k) for q in parentheses(n-k))\n",
    "        cache[n] = par\n",
    "        return par"
   ]
  },
  {
   "cell_type": "code",
   "execution_count": 3,
   "metadata": {},
   "outputs": [
    {
     "data": {
      "text/plain": [
       "dict_keys(['A', 'B', 'C', 'D', 'E', 'F', 'G', 'H', 'I', 'J', 'K', 'L', 'M', 'N', 'O', 'P', 'Q', 'R', 'S', 'T', 'U', 'V', 'W', 'X', 'Y', 'Z', '1', '2', '3', '4', '5', '6', '7', '8', '9', '0', ', ', '.', '?', '/', '-', '(', ')'])"
      ]
     },
     "execution_count": 3,
     "metadata": {},
     "output_type": "execute_result"
    }
   ],
   "source": [
    "morse_codes = { 'A':'.-', 'B':'-...',\n",
    "                    'C':'-.-.', 'D':'-..', 'E':'.',\n",
    "                    'F':'..-.', 'G':'--.', 'H':'....',\n",
    "                    'I':'..', 'J':'.---', 'K':'-.-',\n",
    "                    'L':'.-..', 'M':'--', 'N':'-.',\n",
    "                    'O':'---', 'P':'.--.', 'Q':'--.-',\n",
    "                    'R':'.-.', 'S':'...', 'T':'-',\n",
    "                    'U':'..-', 'V':'...-', 'W':'.--',\n",
    "                    'X':'-..-', 'Y':'-.--', 'Z':'--..',\n",
    "                    '1':'.----', '2':'..---', '3':'...--',\n",
    "                    '4':'....-', '5':'.....', '6':'-....',\n",
    "                    '7':'--...', '8':'---..', '9':'----.',\n",
    "                    '0':'-----', ', ':'--..--', '.':'.-.-.-',\n",
    "                    '?':'..--..', '/':'-..-.', '-':'-....-',\n",
    "                    '(':'-.--.', ')':'-.--.-'}\n",
    "morse_codes.keys()"
   ]
  },
  {
   "cell_type": "code",
   "execution_count": 4,
   "metadata": {},
   "outputs": [
    {
     "data": {
      "text/plain": [
       "'.'"
      ]
     },
     "execution_count": 4,
     "metadata": {},
     "output_type": "execute_result"
    }
   ],
   "source": [
    "morse_codes[\"H\"]\n",
    "morse_codes[\"E\"]"
   ]
  },
  {
   "cell_type": "code",
   "execution_count": 5,
   "metadata": {},
   "outputs": [],
   "source": [
    "def mors_translate():\n",
    "    message = input(\"please enter word or sentence: \").upper()\n",
    "    morse = \"\"\n",
    "    for i in message:\n",
    "        morse += morse_codes[i] + \" \"\n",
    "    print(morse)"
   ]
  },
  {
   "cell_type": "code",
   "execution_count": 6,
   "metadata": {},
   "outputs": [
    {
     "name": "stdout",
     "output_type": "stream",
     "text": [
      "please enter word or sentence: HI\n",
      ".... .. \n"
     ]
    }
   ],
   "source": [
    "mors_translate()"
   ]
  },
  {
   "cell_type": "code",
   "execution_count": null,
   "metadata": {},
   "outputs": [],
   "source": [
    "def string_translate():\n",
    "    morse_code = input(\"please enter the mors code: \").split()\n",
    "    string_code = \"\"\n",
    "    for i in morse_code:\n",
    "        for j in morse_codes.keys():\n",
    "            if i == morse_codes[j]:\n",
    "                string_codes += j+ \" \"\n",
    "    print(string_code)"
   ]
  },
  {
   "cell_type": "code",
   "execution_count": null,
   "metadata": {},
   "outputs": [],
   "source": [
    " morse_codes = { 'A':'.-', 'B':'-...',\n",
    "                    'C':'-.-.', 'D':'-..', 'E':'.',\n",
    "                    'F':'..-.', 'G':'--.', 'H':'....',\n",
    "                    'I':'..', 'J':'.---', 'K':'-.-',\n",
    "                    'L':'.-..', 'M':'--', 'N':'-.',\n",
    "                    'O':'---', 'P':'.--.', 'Q':'--.-',\n",
    "                    'R':'.-.', 'S':'...', 'T':'-',\n",
    "                    'U':'..-', 'V':'...-', 'W':'.--',\n",
    "                    'X':'-..-', 'Y':'-.--', 'Z':'--..',\n",
    "                    '1':'.----', '2':'..---', '3':'...--',\n",
    "                    '4':'....-', '5':'.....', '6':'-....',\n",
    "                    '7':'--...', '8':'---..', '9':'----.',\n",
    "                    '0':'-----', ', ':'--..--', '.':'.-.-.-',\n",
    "                    '?':'..--..', '/':'-..-.', '-':'-....-',\n",
    "                    '(':'-.--.', ')':'-.--.-'}"
   ]
  },
  {
   "cell_type": "code",
   "execution_count": null,
   "metadata": {},
   "outputs": [],
   "source": [
    "def is_valid(s):\n",
    "    characters = {'(':')','[':']','{':'}'}\n",
    "    stack = []\n",
    "    for i in s :\n",
    "        if i in characters.keys() :\n",
    "            stack.append(i)\n",
    "        elif stack and i == characters[stack[-1]] :\n",
    "            stack.pop()\n",
    "        else :\n",
    "            return False\n",
    "    return not stack\n",
    "print(is_valid(\"}\"))"
   ]
  },
  {
   "cell_type": "code",
   "execution_count": null,
   "metadata": {},
   "outputs": [],
   "source": []
  },
  {
   "cell_type": "code",
   "execution_count": null,
   "metadata": {},
   "outputs": [],
   "source": []
  }
 ],
 "metadata": {
  "kernelspec": {
   "display_name": "Python 3",
   "language": "python",
   "name": "python3"
  },
  "language_info": {
   "codemirror_mode": {
    "name": "ipython",
    "version": 3
   },
   "file_extension": ".py",
   "mimetype": "text/x-python",
   "name": "python",
   "nbconvert_exporter": "python",
   "pygments_lexer": "ipython3",
   "version": "3.8.5"
  }
 },
 "nbformat": 4,
 "nbformat_minor": 4
}
